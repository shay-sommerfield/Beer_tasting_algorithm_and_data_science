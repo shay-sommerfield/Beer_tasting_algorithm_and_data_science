{
 "cells": [
  {
   "cell_type": "code",
   "execution_count": 1,
   "metadata": {},
   "outputs": [],
   "source": [
    "# -*- coding: utf-8 -*-\n",
    "import pandas as pd\n",
    "import numpy as np\n",
    "\n",
    "beerConversion = { 3:\"Rolling Rock\",\n",
    "                   11:\"Montucky Cold Snacks\",\n",
    "                   10:\"Miller High Life\",\n",
    "                   6:\"Rainier\",\n",
    "                   1:\"Kokanee\",\n",
    "                   5:\"PBR\",\n",
    "                   4:\"Coors Banquet\",\n",
    "                   12:\"Hamm's\",\n",
    "                   8:\"Modelo\",\n",
    "                   2:\"10 Barrel Pub Beer (craft control)\",\n",
    "                   7:\"Tecate\",\n",
    "                   9:\"Budweiser\"}\n",
    "\n",
    "# raw data\n",
    "# The position within the array indicates ranking\n",
    "# The value at that corresponding index is the numbered label that was on the beer.\n",
    "# That numbered label can get the corresponding beer in the dictionary above\n",
    "Ryan =  [2,11,12,1,6,3,5,4,7,9,8,10]\n",
    "Betsy = [3,10,11,1,5,4,6,8,2,7,12,9]\n",
    "David = [3,10,11,8,7,12,5,6,2,4,1,9]\n",
    "Shay =  [4,11,2,8,10,6,5,12,1,9,7,3]\n",
    "Madie = [12,11,1,7,2,8,5,4,3,10,9,6]\n",
    "\n",
    "# Create a data frame from the beer data\n",
    "def sort_by_beer(ranker):\n",
    "    rank = list(range(1,13))\n",
    "    ranker, rank = zip(*sorted(zip(ranker, rank)))\n",
    "    return rank\n",
    "    \n",
    "d = {\"Beer number\":list(range(1,13)),\n",
    "        \"Ryan's Rank\":  sort_by_beer(Ryan),\n",
    "        \"Betsy's Rank\": sort_by_beer(Betsy),\n",
    "        \"David's Rank\": sort_by_beer(David),\n",
    "        \"Shay's Rank\":  sort_by_beer(Shay),\n",
    "        \"Madie's Rank\": sort_by_beer(Madie)}\n",
    "\n",
    "data = pd.DataFrame(data=d)\n",
    "data.index = range(1,len(data)+1) #reindex to correlate beer names\n",
    "\n",
    "beerNames = pd.Series(beerConversion).sort_index()"
   ]
  },
  {
   "cell_type": "code",
   "execution_count": 2,
   "metadata": {},
   "outputs": [
    {
     "name": "stdout",
     "output_type": "stream",
     "text": [
      "\n",
      "Average Score for each Beer\n",
      "Beer names\n",
      "Kokanee                                6.2\n",
      "10 Barrel Pub Beer (craft control)     5.4\n",
      "Rolling Rock                           5.8\n",
      "Coors Banquet                          6.6\n",
      "PBR                                    6.6\n",
      "Rainier                                7.6\n",
      "Tecate                                 7.8\n",
      "Modelo                                 6.6\n",
      "Budweiser                             11.0\n",
      "Miller High Life                       6.2\n",
      "Montucky Cold Snacks                   2.4\n",
      "Hamm's                                 5.8\n",
      "dtype: float64\n"
     ]
    }
   ],
   "source": [
    "data['Beer names'] = beerNames\n",
    "data = data[['Beer names',\"Ryan's Rank\",\"Betsy's Rank\",\"David's Rank\",\"Madie's Rank\",\"Shay's Rank\"]].set_index([\"Beer names\"])\n",
    "dataFlipped = data.transpose()\n",
    "#dataFlipped = data.set_index([\"Beer names\"]).transpose()\n",
    "mean = dataFlipped.mean()\n",
    "\n",
    "print(\"\\nAverage Score for each Beer\")\n",
    "print(dataFlipped.mean())\n"
   ]
  },
  {
   "cell_type": "code",
   "execution_count": 3,
   "metadata": {},
   "outputs": [
    {
     "name": "stdout",
     "output_type": "stream",
     "text": [
      "\n",
      "Standard Deviation for each Beer\n",
      "Beer names\n",
      "Kokanee                               3.563706\n",
      "10 Barrel Pub Beer (craft control)    3.577709\n",
      "Rolling Rock                          4.868265\n",
      "Coors Banquet                         3.435113\n",
      "PBR                                   0.894427\n",
      "Rainier                               2.701851\n",
      "Tecate                                3.114482\n",
      "Modelo                                2.966479\n",
      "Budweiser                             1.000000\n",
      "Miller High Life                      4.604346\n",
      "Montucky Cold Snacks                  0.547723\n",
      "Hamm's                                3.962323\n",
      "dtype: float64\n"
     ]
    }
   ],
   "source": [
    "print(\"\\nStandard Deviation for each Beer\")\n",
    "print(dataFlipped.std())\n"
   ]
  },
  {
   "cell_type": "code",
   "execution_count": 4,
   "metadata": {},
   "outputs": [
    {
     "name": "stdout",
     "output_type": "stream",
     "text": [
      "\n",
      "Devation\n",
      "Ryan's Rank     2.233333\n",
      "Betsy's Rank    2.333333\n",
      "David's Rank    2.400000\n",
      "Madie's Rank    2.200000\n",
      "Shay's Rank     2.466667\n",
      "dtype: float64\n"
     ]
    }
   ],
   "source": [
    "# determine each persons devation from each beer\n",
    "dev = data.subtract(mean,axis='index').abs().mean()\n",
    "print(\"\\nDevation\")\n",
    "print(dev)"
   ]
  }
 ],
 "metadata": {
  "interpreter": {
   "hash": "dcf5afd63e25c3b16442883fd843703b68bea14ed94785fc888f0d2d77b5b375"
  },
  "kernelspec": {
   "display_name": "Python 3.10.1 ('env': venv)",
   "language": "python",
   "name": "python3"
  },
  "language_info": {
   "codemirror_mode": {
    "name": "ipython",
    "version": 3
   },
   "file_extension": ".py",
   "mimetype": "text/x-python",
   "name": "python",
   "nbconvert_exporter": "python",
   "pygments_lexer": "ipython3",
   "version": "3.10.1"
  },
  "orig_nbformat": 4
 },
 "nbformat": 4,
 "nbformat_minor": 2
}
